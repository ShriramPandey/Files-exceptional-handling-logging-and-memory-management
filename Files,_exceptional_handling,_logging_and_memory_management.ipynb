{
  "nbformat": 4,
  "nbformat_minor": 0,
  "metadata": {
    "colab": {
      "provenance": []
    },
    "kernelspec": {
      "name": "python3",
      "display_name": "Python 3"
    },
    "language_info": {
      "name": "python"
    }
  },
  "cells": [
    {
      "cell_type": "markdown",
      "source": [
        "# Files, exceptional handling, logging and memory management Questions\n"
      ],
      "metadata": {
        "id": "b44RLQfr4vJq"
      }
    },
    {
      "cell_type": "markdown",
      "source": [
        "1. **#What is the difference between interpreted and compiled languages?**\n",
        "    - The main difference between interpreted and compiled languages lies in how the code is translated into machine-readable instructions (binary code) that a computer can execute.\n",
        "    - **Interpreted Languages**\n",
        "      1. Process: Code is run line-by-line by an interpreter at runtime.\n",
        "      2. Output: No standalone executable; the interpreter runs the source code directly.\n",
        "      3. Performance: Slower, because the code is translated on the fly.\n",
        "      4. Example Languages: Python, JavaScript, Ruby, PHP\n",
        "    - **Compiled language**\n",
        "      1. Process: The entire source code is translated into machine code by a compiler before it is run.\n",
        "      2. Output: A standalone executable file (e.g., .exe on Windows).\n",
        "      3. Performance: Usually faster, since the code is already translated before execution.\n",
        "      4. Example Languages: C, C++, Rust, Go\n",
        "\n",
        "\n",
        "\n",
        "\n",
        "\n",
        "\n",
        "\n",
        "\n",
        "\n",
        "\n",
        "\n",
        "\n",
        "\n"
      ],
      "metadata": {
        "id": "GEjStO_E44N2"
      }
    },
    {
      "cell_type": "markdown",
      "source": [
        "2. **#What is exception handling in Python?**\n",
        "    - Exception handling in Python is a way to gracefully handle errors that occur during program execution — so your program doesn't crash unexpectedly.\n",
        "      1. ZeroDivisionError: dividing by zero\n",
        "      2.FileNotFoundError: trying to open a file that doesn’t exist\n",
        "      3. ValueError: passing the wrong type of value\n",
        "      4. TypeError: using incompatible types."
      ],
      "metadata": {
        "id": "toyqChN95vwM"
      }
    },
    {
      "cell_type": "markdown",
      "metadata": {
        "id": "de1afecd"
      },
      "source": [
        "3. **#What is the purpose of the finally block in exception handling?**\n",
        "\n",
        "  - The `finally` block in Python's exception handling is used to define actions that **must** be executed, regardless of whether an exception occurs or not in the `try` block.\n",
        "\n",
        "   * **Key Purpose:**\n",
        "      * **Guaranteed Execution:** Code within the `finally` block will always run after the `try` block and any `except` or `else` blocks, before the `try...except...finally` statement is finished.\n",
        "      * **Resource Cleanup:** It's commonly used for cleanup operations, such as closing files, releasing locks, or closing network connections, to ensure that resources are properly managed even if errors occur.\n"
      ]
    },
    {
      "cell_type": "markdown",
      "metadata": {
        "id": "257a41f9"
      },
      "source": [
        "4. **#What is logging in Python?**\n",
        "\n",
        "    - Logging is a means of tracking events that happen when some software runs. The Python standard library includes a `logging` module that provides a flexible framework for emitting log messages from applications.\n",
        "\n",
        "     **Key aspects of logging:**\n",
        "      * **Tracking events:** Logging helps developers understand the flow of execution and identify when and why errors or unexpected events occur.\n",
        "      * **Different levels:** Log messages have different severity levels (e.g., DEBUG, INFO, WARNING, ERROR, CRITICAL), allowing you to categorize and filter messages.\n",
        "      * **Output destinations:** You can configure logging to send messages to various destinations, such as the console, files, or even remote servers.\n",
        "      * **Flexibility:** The `logging` module is highly configurable, allowing you to customize message formats, handlers, and filters.\n",
        "\n",
        "    - Logging is crucial for:\n",
        "      1.  **Debugging:** Pinpointing the source of errors in your code.\n",
        "      2. **Monitoring:** Keeping track of the application's behavior and performance in production.\n",
        "      3. **Auditing:** Recording events for security or compliance purposes."
      ]
    },
    {
      "cell_type": "markdown",
      "metadata": {
        "id": "ed01e71d"
      },
      "source": [
        "5. **#What is the significance of the `__del__` method in Python?**\n",
        "\n",
        "    - The `__del__` method, also known as the destructor, in Python is called when an object is about to be destroyed (garbage collected).\n",
        "\n",
        "    - **Significance:**\n",
        "      - **Resource Cleanup:** Its primary purpose is to perform cleanup operations for resources that are not automatically managed by Python's garbage collector, such as closing file handles, network connections, or releasing external locks\n",
        "      \n",
        "      * **Unpredictable Timing:** It's important to note that the exact timing of when `__del__` is called is not guaranteed. Python's garbage collector runs when it determines necessary, and the order in which objects are garbage collected can be unpredictable, especially in complex scenarios or when circular references exist.\n",
        "      * **Avoid Heavy Operations:** Due to the unpredictable timing and potential issues (like exceptions raised within `__del__` being ignored), it's generally recommended to avoid putting critical or complex cleanup logic in `__del__`. Using context managers (`with` statements) for resource management is often a more reliable and preferred approach.\n",
        "      * **Reference Counting:** In CPython (the most common implementation of Python), garbage collection primarily relies on reference counting. `__del__` is called when an object's reference count drops to zero. However, this doesn't handle reference cycles (where objects refer to each other, preventing their reference counts from reaching zero), which are handled by a separate cycle-detection algorithm."
      ]
    },
    {
      "cell_type": "markdown",
      "metadata": {
        "id": "1d354883"
      },
      "source": [
        "6. **#What is the difference between import and from ... import in Python?**\n",
        "    - Both `import module` and `from module import name` are used to bring code from one Python module into another, but they differ in how they make the module's contents available.\n",
        "   \n",
        "   - **`import module`**:\n",
        "     * **How it works:** Imports the entire module. You need to use the module name followed by a dot (`.`) to access its functions, classes, or variables.\n",
        "     * **Namespace:** The module is placed in its own namespace. This helps avoid naming conflicts if you import multiple modules that have functions or variables with the same name.\n",
        "     *  **Example:**"
      ]
    },
    {
      "cell_type": "code",
      "metadata": {
        "colab": {
          "base_uri": "https://localhost:8080/"
        },
        "id": "d3c67b9f",
        "outputId": "a3065f30-1276-44d8-dc3c-62c4b215995b"
      },
      "source": [
        "from math import sqrt\n",
        "print(sqrt(16))"
      ],
      "execution_count": null,
      "outputs": [
        {
          "output_type": "stream",
          "name": "stdout",
          "text": [
            "4.0\n"
          ]
        }
      ]
    },
    {
      "cell_type": "markdown",
      "source": [
        "7. **#How can you handle multiple exceptions in Python?**\n",
        "    - In Python, you can handle multiple exceptions using a few different approaches, depending on your needs. Here's a breakdown of the most common ways\n",
        "      1. Handle multiple exceptions with a single except block:- If you want to handle different exceptions the same way, you can group them using a tuple.\n",
        "      2. Handle different exceptions separately:- Use multiple except blocks to handle each exception differently\n",
        "      3. Catch all exceptions:- You can catch all exceptions using except Exception, or a bare except, but this is generally discouraged unless you're logging or re-raising them properly\n",
        "      4. Use else and finally for cleaner control:-\n",
        "          * else: runs if no exception occurs\n",
        "          * finally: always runs, whether an exception occurred or not\n",
        "\n",
        "\n",
        "\n",
        "\n",
        "\n",
        "\n",
        "\n"
      ],
      "metadata": {
        "id": "cIDerMERqP5k"
      }
    },
    {
      "cell_type": "markdown",
      "source": [
        "8. **#What is the purpose of the with statement when handling files in Python?**\n",
        "    - The with statement in Python is primarily used to simplify resource management and ensure that cleanup actions are performed reliably, especially when dealing with files.\n",
        "    - **Key Porpose:**\n",
        "        * Automatic Resource Management: When you open a file using with open(...), Python automatically ensures that the file is closed when the block is exited, regardless of whether the block finishes normally or an exception is raised. This prevents resource leaks (like leaving files open).\n",
        "         * **Cleaner Code:** It makes the code for handling files more concise and readable by removing the need for explicit `file.close()` calls.\n",
        "         * **Handles Exceptions Gracefully:** If an error occurs within the `with` block, the `with` statement guarantees that the file will still be closed before the exception is propagated.\n",
        "\n",
        "   * **How it works:** The `with` statement works with objects that support the context management protocol (which have `__enter__` and `__exit__` methods). The `open()` function returns a file object that supports this protocol.\n",
        "    * `__enter__` is called when entering the `with` block (e.g., opening the file).\n",
        "    * `__exit__` is called when exiting the `with` block (e.g., closing the file)."
      ],
      "metadata": {
        "id": "dYe0R8q826lO"
      }
    },
    {
      "cell_type": "markdown",
      "source": [
        "9. **#What is the difference between multithreading and multiprocessing?**\n",
        "\n",
        "    - The difference between multithreading and multiprocessing in Python comes down to how they achieve concurrency and how they handle system resources. Here's a clear breakdown:\n",
        "    - **Multithreading**\n",
        "      1. Multiple threads run in the same process.\n",
        "      2. Threads share the same memory space.\n",
        "      3. Good for I/O-bound tasks (e.g., file operations, network calls).\n",
        "      4. Limited by the Global Interpreter Lock (GIL) in CPython — only one thread executes Python bytecode at a time.\n",
        "    - **Multiprocessing**\n",
        "      1. Multiple processes, each with its own Python interpreter and memory space.\n",
        "      2. Bypasses the GIL — true parallelism.\n",
        "      3. Best for CPU-bound tasks (e.g., calculations, data processing).\n",
        "      4. Uses more memory and is slower to start than threads due to process overhead.\n",
        "\n",
        "\n",
        "\n",
        "\n",
        "\n",
        "\n",
        "\n",
        "\n",
        "\n",
        "\n",
        "\n",
        "\n",
        "\n",
        "\n",
        "\n"
      ],
      "metadata": {
        "id": "x3KzzGVv4Fe1"
      }
    },
    {
      "cell_type": "markdown",
      "metadata": {
        "id": "711ab526"
      },
      "source": [
        "10. **#What are the advantages of using logging in a program?**\n",
        "\n",
        "  - Logging is a crucial practice in software development and operation, offering numerous benefits beyond just printing messages to the console. Here are the key advantages of using logging in a program:\n",
        "\n",
        "    1. **Improved Debugging:** Logging provides a historical record of your program's execution flow, variable values, and events. This is invaluable for pinpointing the source of errors, understanding the state of the application at different points, and diagnosing issues that are difficult to reproduce.\n",
        "\n",
        "    2.  **Monitoring and Observability:** In production environments, logging allows you to monitor the health, performance, and behavior of your application in real-time or by analyzing historical logs. You can track user activity, system events, and resource usage.\n",
        "\n",
        "    3.  **Error Tracking and Analysis:** When errors occur, logs provide detailed context about the error, including the traceback, variable values, and the sequence of events leading up to the error. This makes it much easier to understand why an error happened and how to fix it.\n",
        "\n",
        "    4.  **Auditing and Compliance:** Logging can be used to create an audit trail of significant events, such as user logins, data modifications, or security-related actions. This is essential for security analysis, compliance requirements, and forensic investigations.\n",
        "\n",
        "    5.  **Performance Analysis:** By logging timestamps and key events, you can analyze the performance of different parts of your application, identify bottlenecks, and optimize code execution.\n",
        "\n",
        "    6.  **Separation of Concerns:** Logging separates informational, warning, and error messages from the main program logic. This keeps your code cleaner and makes it easier to manage different types of output.\n",
        "\n",
        "    7.  **Flexibility and Configuration:** Python's `logging` module is highly configurable. You can easily control:\n",
        "    *   **Log Levels:** Filter messages based on their severity (DEBUG, INFO, WARNING, ERROR, CRITICAL).\n",
        "    *   **Output Destinations:** Send logs to the console, files, databases, remote servers, or other destinations.\n",
        "    *   **Message Format:** Customize the format of log messages to include timestamps, module names, line numbers, etc.\n",
        "    *   **Handlers and Formatters:** Use different handlers to direct logs to various outputs and formatters to control their appearance.\n"
      ]
    },
    {
      "cell_type": "markdown",
      "metadata": {
        "id": "64b59210"
      },
      "source": [
        "11. **#What is memory management in Python?**\n",
        "\n",
        "    - Memory management in Python is the process by which Python handles the allocation and deallocation of memory for objects. Unlike some other programming languages where you manually manage memory (like C or C++ with `malloc()` and `free()`), Python has an automatic memory management system.\n",
        "\n",
        "    - **Key Concepts:**\n",
        "\n",
        "      *   **Heap:** The area of memory where Python objects are stored.\n",
        "      *   **Stack:** The area of memory used for function calls and local variables.\n",
        "      *   **Global Interpreter Lock (GIL):** (Relevant in CPython) The GIL is a mutex that protects access to Python objects, preventing multiple native threads from executing Python bytecode at the same time. While it simplifies memory management (by avoiding complex synchronization issues with shared memory), it can limit the performance of CPU-bound multithreaded programs on multi-core processors.\n",
        "\n"
      ]
    },
    {
      "cell_type": "markdown",
      "metadata": {
        "id": "36b6eb18"
      },
      "source": [
        "12. **#What are the basic steps involved in exception handling in Python?**\n",
        "\n",
        "   - Exception handling in Python allows you to anticipate and respond to errors that occur during the execution of your program, preventing it from crashing. The basic steps involve using specific blocks of code: `try`, `except`, `else`, and `finally`.\n",
        "\n",
        "   - Here's a breakdown of the basic steps and the purpose of each block:\n",
        "\n",
        "      1.  **`try` Block:**\n",
        "        * **Purpose:** This is where you place the code that you suspect might raise an exception.\n",
        "        * **How it works:** Python attempts to execute the code within the `try` block. If no exception occurs, the `except` block(s) are skipped. If an exception *does* occur, the rest of the `try` block is skipped, and Python looks for a matching `except` block.\n",
        "\n",
        "      2.  **`except` Block(s):**\n",
        "        * **Purpose:** This is where you define how to handle specific types of exceptions that might occur in the `try` block.\n",
        "        * **How it works:** If an exception occurs in the `try` block, Python checks if the type of exception matches the exception(s) specified in the `except` block. If a match is found, the code within that `except` block is executed. You can have multiple `except` blocks to handle different types of exceptions. You can also catch multiple exceptions with a single `except` block by providing a tuple of exception types.\n",
        "\n",
        "      3. **`else` Block (Optional):**\n",
        "      * **Purpose:** This block is executed *only* if the code inside the `try` block runs successfully and *no* exceptions are raised.\n",
        "      * **How it works:** If the `try` block completes without any exceptions, the `else` block is executed immediately after the `try` block and before the `finally` block (if a `finally` block exists). It's often used for code that should only run if the protected code was successful.\n",
        "\n",
        "      4.  **`finally` Block (Optional):**\n",
        "       * **Purpose:** This block is used to define actions that **must** be executed, regardless of whether an exception occurred in the `try` block or not.\n",
        "       * **How it works:** The code within the `finally` block will always run after the `try` block and any `except` or `else` blocks, before the entire `try...except...finally` statement is finished. It's commonly used for cleanup operations, such as closing files or releasing resources.\n",
        "\n",
        "\n",
        "   "
      ]
    },
    {
      "cell_type": "markdown",
      "metadata": {
        "id": "4b65a971"
      },
      "source": [
        "13. **#Why is memory management important in Python?**\n",
        "\n",
        "  - Even though Python has automatic memory management, understanding its principles is still important for several reasons:\n",
        "\n",
        "    1.  **Preventing Memory Leaks:** While Python's garbage collector is designed to prevent memory leaks (situations where memory is allocated but never released), they can still occur, especially in complex applications or when dealing with external resources (like C extensions) that aren't properly managed. Understanding how reference counting and garbage collection work helps you identify potential issues that might lead to leaks.\n",
        "\n",
        "    2.  **Improving Performance:** Inefficient memory usage can significantly impact the performance of your Python programs. If your program uses excessive memory, it can lead to increased garbage collection activity, slower execution, and even swapping (using the hard disk as virtual memory), which is much slower than RAM. Understanding memory management helps you write code that uses memory efficiently.\n",
        "\n",
        "    3.  **Writing Efficient Code:** Knowing how Python handles memory can influence your coding decisions. For example, understanding that creating many small objects can lead to overhead might encourage you to use data structures or techniques that are more memory-efficient for your specific task.\n",
        "\n",
        "    4.  **Avoiding Excessive Memory Consumption:** While Python's automatic system handles deallocation, it doesn't prevent you from writing code that simply *uses* a lot of memory in the first place. Large data structures or objects that are kept in memory unnecessarily can consume significant resources. Being aware of memory usage helps you design programs that are mindful of their memory footprint.\n",
        "\n",
        "    5.  **Debugging Memory-Related Issues:** When you encounter memory-related problems (e.g., your program is using too much memory, or you suspect a memory leak), having a basic understanding of Python's memory management helps you debug these issues more effectively. You can use tools and techniques to inspect object references and memory usage.\n",
        "\n",
        "    6.  **Interfacing with External Code:** When working with libraries or extensions written in other languages (like C or C++) that have manual memory management, understanding Python's memory model is crucial for ensuring proper interaction and avoiding memory errors or leaks.\n",
        "\n",
        "    7.  **Understanding the Global Interpreter Lock (GIL):** As mentioned earlier, the GIL is related to memory management in CPython. Understanding how it works and its impact on multithreaded programs is important for writing concurrent applications that perform well."
      ]
    },
    {
      "cell_type": "markdown",
      "metadata": {
        "id": "314faf7c"
      },
      "source": [
        "14. **#What is the role of try and except in exception handling?**\n",
        "\n",
        "  - In Python's exception handling mechanism, the `try` and `except` blocks play crucial and complementary roles:\n",
        "\n",
        "    *   **The `try` Block:**\n",
        "        *   **Role:** This is the primary block where you place the code that you anticipate might raise an exception.\n",
        "        *   **Purpose:** It \"tries\" to execute the code within it. If everything runs smoothly without any errors, the `except` block(s) are skipped.\n",
        "        *   **Behavior:** If an exception *does* occur within the `try` block, the rest of the code in the `try` block is immediately skipped, and Python looks for a matching `except` block to handle the specific type of exception that occurred.\n",
        "\n",
        "    *   **The `except` Block(s):**\n",
        "        * **Role:** This block (or blocks) defines how your program should respond if a specific type of exception is raised in the preceding `try` block.\n",
        "        * **Purpose:** It \"catches\" the exception. If the type of exception raised in the `try` block matches the exception specified in an `except` block, the code within that `except` block is executed.\n",
        "        * **Behavior:** You can have multiple `except` blocks to handle different types of exceptions differently. You can also catch multiple exceptions with a single `except` block by providing a tuple of exception types. If an exception occurs in the `try` block and there is no matching `except` block, the exception will propagate up the call stack, potentially causing the program to terminate if not caught elsewhere.\n",
        "    \n",
        "\n",
        "      \n",
        "\n"
      ]
    },
    {
      "cell_type": "markdown",
      "metadata": {
        "id": "6d3e8ccb"
      },
      "source": [
        "15. **#How does Python's garbage collection system work?**\n",
        "\n",
        "  - Python's garbage collection system automatically reclaims memory that is no longer being used. It primarily uses **reference counting**, where each object keeps track of the number of references to it. When an object's reference count drops to zero, its memory is deallocated.\n",
        "\n",
        "  - Additionally, Python has a **cyclic garbage collector** that runs periodically to find and clean up objects that are part of reference cycles (where objects refer to each other) but are no longer reachable from the rest of the program."
      ]
    },
    {
      "cell_type": "markdown",
      "metadata": {
        "id": "66e469d5"
      },
      "source": [
        "16. **#What is the purpose of the else block in exception handling?**\n",
        "\n",
        "  - In Python's exception handling (`try...except...else...finally`), the `else` block is an optional block that serves a specific purpose:\n",
        "\n",
        "  - **Purpose:** The code within the `else` block is executed *only* if the code inside the preceding `try` block runs successfully and *no* exceptions are raised.\n",
        "\n",
        "  -  **How it works:**\n",
        "    *   If Python successfully executes all the code in the `try` block without encountering any exceptions, it then proceeds to execute the code in the `else` block.\n",
        "    *   If an exception *does* occur in the `try` block, the `else` block is skipped entirely, and Python jumps to the appropriate `except` block (if one exists) or the `finally` block.\n",
        "\n",
        "  -  **Common Use Case:** The `else` block is often used for code that depends on the successful execution of the `try` block. This helps to keep the `try` block focused on the code that might raise an exception and the `else` block on the code that should only run in the absence of errors.\n"
      ]
    },
    {
      "cell_type": "markdown",
      "metadata": {
        "id": "867cc5a3"
      },
      "source": [
        "17. **#What are the common logging levels in Python?**\n",
        "  - The common logging levels in Python, in increasing order of severity, are:\n",
        "\n",
        "    *  **DEBUG:** Detailed information for debugging.\n",
        "    *  **INFO:** Confirmation that things are working as expected.\n",
        "    *  **WARNING:** Something unexpected happened, but the software is still working.\n",
        "    *  **ERROR:** A function failed due to a serious problem.\n",
        "    *  **CRITICAL:** A very serious error, the program may not be able to continue."
      ]
    },
    {
      "cell_type": "markdown",
      "metadata": {
        "id": "5cca1dd1"
      },
      "source": [
        "18. **#What is the difference between os.fork() and multiprocessing in Python?**\n",
        "\n",
        "  - **os.fork():** A low-level system call (Unix-only) that duplicates the current process.\n",
        "  - **multiprocessing:** A high-level, cross-platform module that provides a more convenient way to create and manage processes and handle communication between them.\n",
        "\n",
        "    Generally, the multiprocessing module is the preferred and more portable approach for multiprocessing in Python."
      ]
    },
    {
      "cell_type": "markdown",
      "metadata": {
        "id": "fb8b6c23"
      },
      "source": [
        "19. **#What is the importance of closing a file in Python?**\n",
        "\n",
        "  - Closing a file in Python is important for several reasons:\n",
        "\n",
        "    1.  **Resource Release:** It releases the system resources (like memory and file descriptors) that were allocated when the file was opened.\n",
        "    2.  **Data Persistence:** It ensures that any buffered data is written to the file, preventing data loss.\n",
        "    3.  **Preventing Issues:** It avoids potential problems like reaching the maximum number of open files allowed by the operating system and prevents data corruption or unexpected behavior.\n",
        "\n",
        "      Using a \"with\" statement (context manager) is the recommended way to handle files, as it automatically ensures the file is closed even if errors occur."
      ]
    },
    {
      "cell_type": "markdown",
      "metadata": {
        "id": "0788a5f1"
      },
      "source": [
        "20. **#What is the difference between file.read() and file.readline() in Python?**\n",
        "  - Both `file.read()` and `file.readline()` are methods used to read data from a file in Python, but they differ in how much data they read at a time.\n",
        "\n",
        "*   **file.read([size])**:\n",
        "    *   Reads the entire content of the file as a single string.\n",
        "    *   Optionally, you can provide a `size` argument to read only a specified number of bytes from the file. If `size` is omitted or negative, it reads the entire file.\n",
        "    *   Returns an empty string (`''`) when the end of the file has been reached.\n",
        "\n",
        "*   **file.readline([size])**:\n",
        "    *   Reads a single line from the file. A \"line\" is typically terminated by a newline character (`\\n`).\n",
        "    *   It includes the newline character in the returned string (if present).\n",
        "    *   Optionally, you can provide a `size` argument to read at most `size` bytes of the line.\n",
        "    *   Returns an empty string (`''`) when the end of the file has been reached.\n",
        "\n"
      ]
    },
    {
      "cell_type": "markdown",
      "metadata": {
        "id": "9063d4d8"
      },
      "source": [
        "21. **#What is the logging module in Python used for?**\n",
        "\n",
        "  - The `logging` module is a built-in Python library that provides a flexible and standardized way to emit log messages from applications. It's used for tracking events that happen when some software runs, offering more control and structure compared to simple print statements.\n",
        "\n",
        "  - The primary purposes of the `logging` module include:\n",
        "\n",
        "    1.  **Debugging:** Providing detailed information about the program's execution flow, variable values, and events to help identify and diagnose issues.\n",
        "    2.  **Monitoring:** Tracking the application's behavior, performance, and health in production environments.\n",
        "    3.  **Error Tracking and Analysis:** Recording detailed information about errors, including tracebacks, to facilitate understanding and fixing problems.\n",
        "    4.  **Auditing:** Creating a record of significant events for security, compliance, or forensic analysis.\n",
        "    5.  **Information Dissemination:** Providing various levels of information (e.g., informational messages, warnings) to developers, operators, or users.\n",
        "\n"
      ]
    },
    {
      "cell_type": "markdown",
      "metadata": {
        "id": "0ed77231"
      },
      "source": [
        "22. **#What is the os module in Python used for in file handling?**\n",
        "\n",
        "  - The \"os\" module in Python provides functions for interacting with the operating system's file system. In file handling, it's used for tasks like:\n",
        "\n",
        "    *   Checking if files or directories exist (os.path.exists, os.path.isfile).\n",
        "    *   Getting file information (size, modification time - os.path.getsize, os.stat).\n",
        "    *   Manipulating file and directory paths (os.path.join, os.path.dirname).\n",
        "    *   Renaming or deleting files and directories (os.rename, os.remove).\n",
        "    *   Listing directory contents (os.listdir).\n",
        "\n",
        "      It complements Python's built-in file handling by providing access to file system operations."
      ]
    },
    {
      "cell_type": "markdown",
      "metadata": {
        "id": "b4f7ddad"
      },
      "source": [
        "23. **#What are the challenges associated with memory management in Python?**\n",
        "\n",
        "  - Despite automatic memory management, challenges in Python can include:\n",
        "\n",
        "    *   **Reference Cycles:** Objects referencing each other can sometimes prevent deallocation, requiring the cyclic garbage collector.\n",
        "    *   **Less Predictable Deallocation:** You have less control over the exact timing of when objects are garbage collected.\n",
        "    *   **Potential for High Memory Usage:** Inefficient code or large data structures can still consume excessive memory.\n",
        "    *   **GIL Impact (CPython):** The Global Interpreter Lock can limit the effectiveness of multithreading for CPU-bound tasks due to its interaction with memory management.\n",
        "\n",
        "    Understanding these aspects helps write more efficient and robust Python code."
      ]
    },
    {
      "cell_type": "markdown",
      "source": [
        "24. **#How do you raise an exception manually in Python?**\n",
        "\n",
        "  - In Python, you can raise an exception manually using the raise keyword.\n",
        "\n",
        "    * This is useful when you want to:\n",
        "      1. Trigger an error based on a specific condition\n",
        "      2. Stop the program if something goes wrong\n",
        "      3. Signal a problem to the caller of a function\n",
        "      4. Example:-\n",
        "          * def withdraw(amount):\n",
        "          * if amount < 0:\n",
        "          * raise ValueError(\"Cannot withdraw a negative amount\")\n",
        "          * print(f\"Withdrawing {amount} units\")\n",
        "          * withdraw(-100) #Output>> Negative amount (Value Error)\n",
        "\n",
        "    \n"
      ],
      "metadata": {
        "id": "J9Qzlr9UAZPd"
      }
    },
    {
      "cell_type": "markdown",
      "metadata": {
        "id": "4dc645fe"
      },
      "source": [
        "25. **#Why is it important to use multithreading in certain applications?**\n",
        "\n",
        "  - Using multithreading is important in certain applications because it allows your program to perform multiple tasks concurrently, which can greatly improve responsiveness, efficiency, and resource utilization—especially when dealing with I/O-bound tasks.\n",
        "   1. **Improves Responsiveness:-** Multithreading keeps your application responsive, even while it's doing background tasks.\n",
        "  2. **Efficient for I/O-Bound Operations:-**\n",
        "      * Reading/writing files\n",
        "      * Making API or database calls\n",
        "      * Waiting for user input\n",
        "      * Downloading data from the internet\n",
        "  3. **Better Resource Utilization:-**\n",
        "      * While one thread is blocked (e.g., waiting for data), others can use the CPU.\n",
        "      * Threads share the same memory space, so they’re lighter than processes (less overhead).\n",
        "  4. **Simplifies Certain Designs:-** Some programs are naturally divided into parallel tasks:\n",
        "      * Producer-consumer models\n",
        "      * Real-time monitoring systems\n",
        "      * Background logging or analytics"
      ]
    },
    {
      "cell_type": "markdown",
      "source": [
        "# Practical Questions"
      ],
      "metadata": {
        "id": "JuEjGx4h6uiw"
      }
    },
    {
      "cell_type": "code",
      "source": [
        "1. #How can you open a file for writing in Python and write a string to it?\n",
        "\n",
        "file = open(\"file.txt\", \"w\")\n",
        "file.write(\"Can i Get 12 LPA job After completing The DA Course\")"
      ],
      "metadata": {
        "colab": {
          "base_uri": "https://localhost:8080/"
        },
        "id": "fK722vdx8JI8",
        "outputId": "ff5f6f57-075f-49e6-ae5a-89c4804954a0"
      },
      "execution_count": null,
      "outputs": [
        {
          "output_type": "execute_result",
          "data": {
            "text/plain": [
              "51"
            ]
          },
          "metadata": {},
          "execution_count": 9
        }
      ]
    },
    {
      "cell_type": "code",
      "source": [
        "2. # Write a Python program to read the contents of a file and print each line.\n",
        "\n",
        "file = open(\"file.txt\", \"w\")  #file in write mode\n",
        "file.write(\"This is my first line\\n\")\n",
        "file.write(\"This is my second line\\n\") #entered some contents\n",
        "file.write(\"This is my third line\\n\")\n",
        "file.write(\"This is my fourth line\\n\")\n",
        "file.close()\n",
        "\n"
      ],
      "metadata": {
        "id": "j3d5wFAC8-WU"
      },
      "execution_count": null,
      "outputs": []
    },
    {
      "cell_type": "code",
      "source": [
        "file = open(\"file.txt\", 'r') #again open file in reading mode\n",
        "\n",
        "for i in file:\n",
        "    print(i)"
      ],
      "metadata": {
        "colab": {
          "base_uri": "https://localhost:8080/"
        },
        "id": "pSNcAYGUhitP",
        "outputId": "f1bfc516-03df-45a3-edf1-af7eb4e0cad8"
      },
      "execution_count": null,
      "outputs": [
        {
          "output_type": "stream",
          "name": "stdout",
          "text": [
            "This is my first line\n",
            "\n",
            "This is my second line\n",
            "\n",
            "This is my third line\n",
            "\n",
            "This is my fourth line\n",
            "\n"
          ]
        }
      ]
    },
    {
      "cell_type": "code",
      "source": [
        "3. #How would you handle a case where the file doesn't exist while trying to open it for reading?\n",
        "\n",
        "try:\n",
        "    file = open(\"nonexistent_file.txt\", \"r\")\n",
        "    print(file.read())\n",
        "    file.close()\n",
        "except FileNotFoundError:\n",
        "    print(\"Error: The file does not exist.\")"
      ],
      "metadata": {
        "id": "EyWCRrfqikSy"
      },
      "execution_count": null,
      "outputs": []
    },
    {
      "cell_type": "code",
      "metadata": {
        "colab": {
          "base_uri": "https://localhost:8080/"
        },
        "id": "2ae96c04",
        "outputId": "adcb824a-b4f5-4b87-8a3f-3787e546c663"
      },
      "source": [
        "4. #Write a Python script that reads from one file and writes its content to another file?\n",
        "try:\n",
        "    # Create a source file for demonstration\n",
        "    with open(\"source_file.txt\", \"w\") as source_file:\n",
        "        source_file.write(\"This is the content of the source file.\\n\")\n",
        "        source_file.write(\"This is the second line.\")\n",
        "\n",
        "    # Open the source file in read mode\n",
        "    with open(\"source_file.txt\", \"r\") as source_file:\n",
        "        # Read the content\n",
        "        content = source_file.read()\n",
        "\n",
        "    # Open the destination file in write mode\n",
        "    with open(\"destination_file.txt\", \"w\") as destination_file:\n",
        "        # Write the content to the destination file\n",
        "        destination_file.write(content)\n",
        "\n",
        "    print(\"Content successfully copied from source_file.txt to destination_file.txt\")\n",
        "\n",
        "except FileNotFoundError:\n",
        "    print(\"Error: One of the files was not found.\")\n",
        "except Exception as e:\n",
        "    print(f\"An error occurred: {e}\")"
      ],
      "execution_count": null,
      "outputs": [
        {
          "output_type": "stream",
          "name": "stdout",
          "text": [
            "Content successfully copied from source_file.txt to destination_file.txt\n"
          ]
        }
      ]
    },
    {
      "cell_type": "code",
      "metadata": {
        "colab": {
          "base_uri": "https://localhost:8080/"
        },
        "id": "0033686f",
        "outputId": "ba7c7676-5c9b-4da8-e828-2acb9b33ac7a"
      },
      "source": [
        "5. #How would you catch and handle division by zero error in Python?\n",
        "try:\n",
        "  result = 10 / 0\n",
        "except ZeroDivisionError:\n",
        "  print(\"Error: Cannot divide by zero!\")"
      ],
      "execution_count": null,
      "outputs": [
        {
          "output_type": "stream",
          "name": "stdout",
          "text": [
            "Error: Cannot divide by zero!\n"
          ]
        }
      ]
    },
    {
      "cell_type": "code",
      "metadata": {
        "colab": {
          "base_uri": "https://localhost:8080/"
        },
        "id": "abd48ca2",
        "outputId": "56ff2b4c-0a39-48db-ce06-c5c41f51a92a"
      },
      "source": [
        "6. #Write a Python program that logs an error message to a log file when a division by zero exception occurs?\n",
        "\n",
        "import logging\n",
        "\n",
        "# Configure logging to write to a file\n",
        "logging.basicConfig(filename='error.log', level=logging.ERROR)\n",
        "\n",
        "try:\n",
        "    result = 10 / 0\n",
        "except ZeroDivisionError:\n",
        "    logging.error(\"Attempted to divide by zero!\")\n",
        "    print(\"An error occurred and was logged.\")"
      ],
      "execution_count": null,
      "outputs": [
        {
          "output_type": "stream",
          "name": "stderr",
          "text": [
            "ERROR:root:Attempted to divide by zero!\n"
          ]
        },
        {
          "output_type": "stream",
          "name": "stdout",
          "text": [
            "An error occurred and was logged.\n"
          ]
        }
      ]
    },
    {
      "cell_type": "code",
      "metadata": {
        "colab": {
          "base_uri": "https://localhost:8080/"
        },
        "id": "6c85abe4",
        "outputId": "fa44233b-eb0e-4179-8196-9b3bf3be4d41"
      },
      "source": [
        "7. #How do you log information at different levels (INFO, ERROR, WARNING) in Python using the logging modul?\n",
        "import logging\n",
        "\n",
        "# Configure logging to the console\n",
        "logging.basicConfig(level=logging.INFO)\n",
        "\n",
        "logging.info(\"This is an informational message.\")\n",
        "logging.warning(\"This is a warning message.\")\n",
        "logging.error(\"This is an error message.\")"
      ],
      "execution_count": null,
      "outputs": [
        {
          "output_type": "stream",
          "name": "stderr",
          "text": [
            "WARNING:root:This is a warning message.\n",
            "ERROR:root:This is an error message.\n"
          ]
        }
      ]
    },
    {
      "cell_type": "code",
      "metadata": {
        "colab": {
          "base_uri": "https://localhost:8080/"
        },
        "id": "10f57b49",
        "outputId": "e6b82881-6737-4c56-a124-644214c7b0ed"
      },
      "source": [
        "8. #Write a program to handle a file opening error using exception handling.\n",
        "\n",
        "try:\n",
        "    file = open(\"my_file.txt\", \"r\")\n",
        "    content = file.read()\n",
        "    print(content)\n",
        "    file.close()\n",
        "except FileNotFoundError:\n",
        "    print(\"Error: The file was not found.\")\n",
        "except IOError:\n",
        "    print(\"Error: Could not read the file.\")\n",
        "except Exception as e:\n",
        "    print(f\"An unexpected error occurred: {e}\")"
      ],
      "execution_count": null,
      "outputs": [
        {
          "output_type": "stream",
          "name": "stdout",
          "text": [
            "Error: The file was not found.\n"
          ]
        }
      ]
    },
    {
      "cell_type": "code",
      "metadata": {
        "colab": {
          "base_uri": "https://localhost:8080/"
        },
        "id": "01ac96ba",
        "outputId": "59bb5ad7-e4f4-4c0d-a9af-864a20639d96"
      },
      "source": [
        "9. #How can you read a file line by line and store its content in a list in Python\u001f\n",
        "\n",
        "# Create a sample file for demonstration\n",
        "with open(\"sample_file.txt\", \"w\") as f:\n",
        "    f.write(\"This is line 1\\n\")\n",
        "    f.write(\"This is line 2\\n\")\n",
        "    f.write(\"This is line 3\\n\")\n",
        "\n",
        "# Read the file line by line and store in a list\n",
        "lines_list = []\n",
        "try:\n",
        "    with open(\"sample_file.txt\", \"r\") as f:\n",
        "        for line in f:\n",
        "            lines_list.append(line.strip()) # .strip() removes leading/trailing whitespace, including newline characters\n",
        "    print(lines_list)\n",
        "except FileNotFoundError:\n",
        "    print(\"Error: The file was not found.\")\n",
        "except IOError:\n",
        "    print(\"Error: Could not read the file.\")"
      ],
      "execution_count": null,
      "outputs": [
        {
          "output_type": "stream",
          "name": "stdout",
          "text": [
            "['This is line 1', 'This is line 2', 'This is line 3']\n"
          ]
        }
      ]
    },
    {
      "cell_type": "code",
      "metadata": {
        "colab": {
          "base_uri": "https://localhost:8080/"
        },
        "id": "e7bf3c47",
        "outputId": "95f6e425-e6bb-490c-d8a5-271c9f53b86a"
      },
      "source": [
        "10. #How can you append data to an existing file in Python\n",
        "\n",
        "# Create a file for demonstration (if it doesn't exist)\n",
        "with open(\"my_append_file.txt\", \"w\") as f:\n",
        "    f.write(\"This is the initial content.\\n\")\n",
        "\n",
        "# Append data to the file\n",
        "with open(\"my_append_file.txt\", \"a\") as f:\n",
        "    f.write(\"This line is appended.\\n\")\n",
        "    f.write(\"This is another appended line.\\n\")\n",
        "\n",
        "# Read and print the content to verify\n",
        "with open(\"my_append_file.txt\", \"r\") as f:\n",
        "    content = f.read()\n",
        "    print(content)"
      ],
      "execution_count": null,
      "outputs": [
        {
          "output_type": "stream",
          "name": "stdout",
          "text": [
            "This is the initial content.\n",
            "This line is appended.\n",
            "This is another appended line.\n",
            "\n"
          ]
        }
      ]
    },
    {
      "cell_type": "code",
      "metadata": {
        "colab": {
          "base_uri": "https://localhost:8080/"
        },
        "id": "e3add21c",
        "outputId": "c469400d-c1e7-40c2-96de-958e95ea1166"
      },
      "source": [
        "11. #Write a Python program that uses a try-except block to handle an error when attempting to access a dictionary key that doesn't exist.\n",
        "\n",
        "\n",
        "my_dict = {\"apple\": 1, \"banana\": 2}\n",
        "\n",
        "try:\n",
        "    value = my_dict[\"orange\"]\n",
        "    print(value)\n",
        "except KeyError:\n",
        "    print(\"Error: The key does not exist in the dictionary.\")\n",
        "except Exception as e:\n",
        "    print(f\"An unexpected error occurred: {e}\")"
      ],
      "execution_count": null,
      "outputs": [
        {
          "output_type": "stream",
          "name": "stdout",
          "text": [
            "Error: The key does not exist in the dictionary.\n"
          ]
        }
      ]
    },
    {
      "cell_type": "code",
      "metadata": {
        "colab": {
          "base_uri": "https://localhost:8080/"
        },
        "id": "97750d1f",
        "outputId": "534e0f01-e3a2-4ce1-e32a-44dd95c2dafe"
      },
      "source": [
        "12. #Write a program that demonstrates using multiple except blocks to handle different types of exceptions.\n",
        "\n",
        "def divide_numbers(a, b):\n",
        "    try:\n",
        "        result = a / b\n",
        "        print(f\"The result of division is: {result}\")\n",
        "    except ValueError:\n",
        "        print(\"Error: Invalid input. Please enter numbers.\")\n",
        "    except ZeroDivisionError:\n",
        "        print(\"Error: Cannot divide by zero.\")\n",
        "    except Exception as e:\n",
        "        print(f\"An unexpected error occurred: {e}\")\n",
        "\n",
        "# Example usage:\n",
        "divide_numbers(10, 2)\n",
        "divide_numbers(10, 0)\n",
        "divide_numbers(\"10\", 2)"
      ],
      "execution_count": null,
      "outputs": [
        {
          "output_type": "stream",
          "name": "stdout",
          "text": [
            "The result of division is: 5.0\n",
            "Error: Cannot divide by zero.\n",
            "An unexpected error occurred: unsupported operand type(s) for /: 'str' and 'int'\n"
          ]
        }
      ]
    },
    {
      "cell_type": "code",
      "metadata": {
        "colab": {
          "base_uri": "https://localhost:8080/"
        },
        "id": "79599649",
        "outputId": "0b355276-24f2-49d9-f318-a09ac0447e76"
      },
      "source": [
        "13. #How would you check if a file exists before attempting to read it in Python?\n",
        "\n",
        "import os\n",
        "\n",
        "file_name = \"my_test_file.txt\"\n",
        "\n",
        "# Create the file for demonstration purposes\n",
        "with open(file_name, \"w\") as f:\n",
        "    f.write(\"This is a test file.\")\n",
        "\n",
        "if os.path.exists(file_name):\n",
        "    print(f\"The file '{file_name}' exists. Reading its content:\")\n",
        "    try:\n",
        "        with open(file_name, \"r\") as f:\n",
        "            content = f.read()\n",
        "            print(content)\n",
        "    except IOError:\n",
        "        print(f\"Error: Could not read the file '{file_name}'.\")\n",
        "else:\n",
        "    print(f\"Error: The file '{file_name}' does not exist.\")\n",
        "\n",
        "# Example with a non-existent file\n",
        "non_existent_file = \"non_existent_file.txt\"\n",
        "if os.path.exists(non_existent_file):\n",
        "    print(f\"The file '{non_existent_file}' exists.\")\n",
        "else:\n",
        "    print(f\"Error: The file '{non_existent_file}' does not exist.\")"
      ],
      "execution_count": null,
      "outputs": [
        {
          "output_type": "stream",
          "name": "stdout",
          "text": [
            "The file 'my_test_file.txt' exists. Reading its content:\n",
            "This is a test file.\n",
            "Error: The file 'non_existent_file.txt' does not exist.\n"
          ]
        }
      ]
    },
    {
      "cell_type": "code",
      "metadata": {
        "colab": {
          "base_uri": "https://localhost:8080/"
        },
        "id": "5d15c567",
        "outputId": "506e35ea-1673-4e80-e7ca-a7f9af94eb9f"
      },
      "source": [
        "14. #Write a program that uses the logging module to log both informational and error messages.\n",
        "\n",
        "\n",
        "import logging\n",
        "\n",
        "# Configure logging to output to the console\n",
        "logging.basicConfig(level=logging.INFO, format='%(asctime)s - %(levelname)s - %(message)s')\n",
        "\n",
        "# Log an informational message\n",
        "logging.info(\"This is an informational message.\")\n",
        "\n",
        "# Log an error message\n",
        "try:\n",
        "    result = 10 / 0\n",
        "except ZeroDivisionError:\n",
        "    logging.error(\"Attempted to divide by zero!\")\n",
        "    print(\"An error occurred and was logged.\")"
      ],
      "execution_count": null,
      "outputs": [
        {
          "output_type": "stream",
          "name": "stderr",
          "text": [
            "ERROR:root:Attempted to divide by zero!\n"
          ]
        },
        {
          "output_type": "stream",
          "name": "stdout",
          "text": [
            "An error occurred and was logged.\n"
          ]
        }
      ]
    },
    {
      "cell_type": "code",
      "metadata": {
        "colab": {
          "base_uri": "https://localhost:8080/"
        },
        "id": "5d857125",
        "outputId": "c57efd78-577d-47dc-b611-1e6f17a7421c"
      },
      "source": [
        "15. #Write a Python program that prints the content of a file and handles the case when the file is empty.\n",
        "\n",
        "import os\n",
        "\n",
        "file_name = \"my_empty_file_test.txt\"\n",
        "\n",
        "with open(file_name, \"w\") as f:\n",
        "   f.write(\"This file has some content.\\n\")\n",
        "\n",
        "try:\n",
        "    if os.path.exists(file_name):\n",
        "        with open(file_name, \"r\") as f:\n",
        "            content = f.read()\n",
        "            if content:\n",
        "                print(f\"Content of '{file_name}':\")\n",
        "                print(content)\n",
        "            else:\n",
        "                print(f\"The file '{file_name}' is empty.\")\n",
        "    else:\n",
        "        print(f\"Error: The file '{file_name}' does not exist.\")\n",
        "\n",
        "except IOError:\n",
        "    print(f\"Error: Could not read the file '{file_name}'.\")\n",
        "except Exception as e:\n",
        "    print(f\"An unexpected error occurred: {e}\")"
      ],
      "execution_count": null,
      "outputs": [
        {
          "output_type": "stream",
          "name": "stdout",
          "text": [
            "Content of 'my_empty_file_test.txt':\n",
            "This file has some content.\n",
            "\n"
          ]
        }
      ]
    },
    {
      "cell_type": "code",
      "metadata": {
        "colab": {
          "base_uri": "https://localhost:8080/"
        },
        "id": "2b4374dd",
        "outputId": "d932526b-9cd7-4619-d98f-716e1dd92fa3"
      },
      "source": [
        "16. #Demonstrate how to use memory profiling to check the memory usage of a small program.\n",
        "\n",
        "\n",
        "!pip install memory-profiler"
      ],
      "execution_count": null,
      "outputs": [
        {
          "output_type": "stream",
          "name": "stdout",
          "text": [
            "Collecting memory-profiler\n",
            "  Downloading memory_profiler-0.61.0-py3-none-any.whl.metadata (20 kB)\n",
            "Requirement already satisfied: psutil in /usr/local/lib/python3.12/dist-packages (from memory-profiler) (5.9.5)\n",
            "Downloading memory_profiler-0.61.0-py3-none-any.whl (31 kB)\n",
            "Installing collected packages: memory-profiler\n",
            "Successfully installed memory-profiler-0.61.0\n"
          ]
        }
      ]
    },
    {
      "cell_type": "markdown",
      "metadata": {
        "id": "3acfc353"
      },
      "source": [
        "Now that the library is installed, I can demonstrate how to use it to check the memory usage of a small program. We'll use the `%memit` magic command provided by the `memory_profiler` library."
      ]
    },
    {
      "cell_type": "code",
      "metadata": {
        "colab": {
          "base_uri": "https://localhost:8080/"
        },
        "id": "67b616c6",
        "outputId": "139ae5ff-7858-4732-c608-a6d180eaf9fa"
      },
      "source": [
        "%load_ext memory_profiler\n",
        "\n",
        "def create_list(n):\n",
        "    a = [i for i in range(n)]\n",
        "    return a\n",
        "\n",
        "%memit create_list(1000000)"
      ],
      "execution_count": null,
      "outputs": [
        {
          "output_type": "stream",
          "name": "stdout",
          "text": [
            "peak memory: 121.01 MiB, increment: 3.27 MiB\n"
          ]
        }
      ]
    },
    {
      "cell_type": "code",
      "metadata": {
        "colab": {
          "base_uri": "https://localhost:8080/"
        },
        "id": "d5836f6b",
        "outputId": "c563bbd6-c8f9-41d4-c510-c35c84337e36"
      },
      "source": [
        "17. #Write a Python program to create and write a list of numbers to a file, one number per line.\n",
        "\n",
        "numbers = [10, 25, 5, 42, 18]\n",
        "file_name = \"numbers_list.txt\"\n",
        "\n",
        "try:\n",
        "    with open(file_name, \"w\") as f:\n",
        "        for number in numbers:\n",
        "            f.write(str(number) + \"\\n\")\n",
        "    print(f\"Successfully wrote list of numbers to '{file_name}'\")\n",
        "\n",
        "except IOError:\n",
        "    print(f\"Error: Could not write to the file '{file_name}'.\")\n",
        "except Exception as e:\n",
        "    print(f\"An unexpected error occurred: {e}\")\n",
        "\n",
        "#Read the file to verify the content\n",
        "try:\n",
        "    with open(file_name, \"r\") as f:\n",
        "        content = f.read()\n",
        "        print(\"\\nContent of the created file:\")\n",
        "        print(content)\n",
        "except FileNotFoundError:\n",
        "    print(f\"Error: The file '{file_name}' was not found after writing.\")\n",
        "except IOError:\n",
        "    print(f\"Error: Could not read the file '{file_name}' after writing.\")"
      ],
      "execution_count": null,
      "outputs": [
        {
          "output_type": "stream",
          "name": "stdout",
          "text": [
            "Successfully wrote list of numbers to 'numbers_list.txt'\n",
            "\n",
            "Content of the created file:\n",
            "10\n",
            "25\n",
            "5\n",
            "42\n",
            "18\n",
            "\n"
          ]
        }
      ]
    },
    {
      "cell_type": "code",
      "metadata": {
        "colab": {
          "base_uri": "https://localhost:8080/"
        },
        "id": "efd90489",
        "outputId": "2d1b9bd3-a945-45a4-ee19-85ec8ba0940a"
      },
      "source": [
        "18. #How would you implement a basic logging setup that logs to a file with rotation after 1MB?\n",
        "\n",
        "import logging\n",
        "from logging.handlers import RotatingFileHandler\n",
        "import os\n",
        "\n",
        "log_file = \"rotating_log.log\"\n",
        "max_bytes = 1024 * 1024 # 1 MB\n",
        "backup_count = 5 # Keep up to 5 backup files\n",
        "\n",
        "# Configure the root logger\n",
        "logger = logging.getLogger('')\n",
        "logger.setLevel(logging.INFO)\n",
        "\n",
        "# Create a rotating file handler\n",
        "handler = RotatingFileHandler(log_file, maxBytes=max_bytes, backupCount=backup_count)\n",
        "\n",
        "# Create a formatter and add it to the handler\n",
        "formatter = logging.Formatter('%(asctime)s - %(name)s - %(levelname)s - %(message)s')\n",
        "handler.setFormatter(formatter)\n",
        "\n",
        "# Add the handler to the logger\n",
        "logger.addHandler(handler)\n",
        "\n",
        "# Log some messages to test rotation\n",
        "print(f\"Logging messages to {log_file}. This file will rotate after {max_bytes} bytes.\")\n",
        "\n",
        "for i in range(20): # Log enough messages to trigger rotation\n",
        "    logging.info(f\"This is log message number {i}\")\n",
        "\n",
        "print(\"Finished logging. Check the directory for log files.\")\n",
        "\n"
      ],
      "execution_count": null,
      "outputs": [
        {
          "output_type": "stream",
          "name": "stderr",
          "text": [
            "INFO:root:This is log message number 0\n",
            "INFO:root:This is log message number 1\n",
            "INFO:root:This is log message number 2\n",
            "INFO:root:This is log message number 3\n",
            "INFO:root:This is log message number 4\n",
            "INFO:root:This is log message number 5\n",
            "INFO:root:This is log message number 6\n",
            "INFO:root:This is log message number 7\n",
            "INFO:root:This is log message number 8\n",
            "INFO:root:This is log message number 9\n",
            "INFO:root:This is log message number 10\n",
            "INFO:root:This is log message number 11\n",
            "INFO:root:This is log message number 12\n",
            "INFO:root:This is log message number 13\n",
            "INFO:root:This is log message number 14\n",
            "INFO:root:This is log message number 15\n",
            "INFO:root:This is log message number 16\n",
            "INFO:root:This is log message number 17\n",
            "INFO:root:This is log message number 18\n",
            "INFO:root:This is log message number 19\n"
          ]
        },
        {
          "output_type": "stream",
          "name": "stdout",
          "text": [
            "Logging messages to rotating_log.log. This file will rotate after 1048576 bytes.\n",
            "Finished logging. Check the directory for log files.\n"
          ]
        }
      ]
    },
    {
      "cell_type": "code",
      "metadata": {
        "colab": {
          "base_uri": "https://localhost:8080/"
        },
        "id": "035caedd",
        "outputId": "4f0a2495-d44c-427c-f79b-29a4084d37ba"
      },
      "source": [
        "19. #Write a program that handles both IndexError and KeyError using a try-except block.\n",
        "\n",
        "def access_element(data, key):\n",
        "    try:\n",
        "        # Attempt to access data either as a list by index or a dictionary by key\n",
        "        if isinstance(data, list):\n",
        "            value = data[key]\n",
        "        elif isinstance(data, dict):\n",
        "            value = data[key]\n",
        "        else:\n",
        "            print(\"Input data must be a list or a dictionary.\")\n",
        "            return\n",
        "\n",
        "        print(f\"Accessed value: {value}\")\n",
        "\n",
        "    except IndexError:\n",
        "        print(f\"Error: Invalid index '{key}'. The list index is out of range.\")\n",
        "    except KeyError:\n",
        "        print(f\"Error: Invalid key '{key}'. The dictionary key does not exist.\")\n",
        "    except Exception as e:\n",
        "        print(f\"An unexpected error occurred: {e}\")\n",
        "\n",
        "#usage:\n",
        "my_list = [1, 2, 3]\n",
        "my_dict = {\"a\": 1, \"b\": 2}\n",
        "\n",
        "access_element(my_list, 1)\n",
        "access_element(my_list, 5)\n",
        "\n",
        "access_element(my_dict, \"a\")\n",
        "access_element(my_dict, \"c\")\n",
        "\n",
        "access_element(\"hello\", 0)"
      ],
      "execution_count": null,
      "outputs": [
        {
          "output_type": "stream",
          "name": "stdout",
          "text": [
            "Accessed value: 2\n",
            "Error: Invalid index '5'. The list index is out of range.\n",
            "Accessed value: 1\n",
            "Error: Invalid key 'c'. The dictionary key does not exist.\n",
            "Input data must be a list or a dictionary.\n"
          ]
        }
      ]
    },
    {
      "cell_type": "code",
      "metadata": {
        "colab": {
          "base_uri": "https://localhost:8080/"
        },
        "id": "3714e052",
        "outputId": "e9151a89-9428-4cf4-e472-36a05385f8f8"
      },
      "source": [
        "20. #How would you open a file and read its contents using a context manager in Python?\n",
        "\n",
        "# Create a sample file for demonstration\n",
        "file_name = \"sample_context_file.txt\"\n",
        "with open(file_name, \"w\") as f:\n",
        "    f.write(\"This is the first line.\\n\")\n",
        "    f.write(\"This is the second line.\\n\")\n",
        "\n",
        "# Open and read the file using a context manager\n",
        "try:\n",
        "    with open(file_name, \"r\") as f:\n",
        "        content = f.read()\n",
        "        print(f\"Content of '{file_name}':\")\n",
        "        print(content)\n",
        "except FileNotFoundError:\n",
        "    print(f\"Error: The file '{file_name}' was not found.\")\n",
        "except IOError:\n",
        "    print(f\"Error: Could not read the file '{file_name}'.\")\n",
        "\n"
      ],
      "execution_count": null,
      "outputs": [
        {
          "output_type": "stream",
          "name": "stdout",
          "text": [
            "Content of 'sample_context_file.txt':\n",
            "This is the first line.\n",
            "This is the second line.\n",
            "\n"
          ]
        }
      ]
    },
    {
      "cell_type": "code",
      "metadata": {
        "colab": {
          "base_uri": "https://localhost:8080/"
        },
        "id": "705749f9",
        "outputId": "cbee1c27-7fd4-4899-9657-9936676a17d5"
      },
      "source": [
        "21. #Write a Python program that reads a file and prints the number of occurrences of a specific wordF.\n",
        "\n",
        "def count_word_occurrences(file_path, word):\n",
        "    \"\"\"\n",
        "    Reads a file and counts the occurrences of a specific word.\n",
        "\n",
        "    Args:\n",
        "        file_path (str): The path to the file.\n",
        "        word (str): The word to count.\n",
        "\n",
        "    Returns:\n",
        "        int: The number of occurrences of the word in the file.\n",
        "    \"\"\"\n",
        "    count = 0\n",
        "    try:\n",
        "        with open(file_path, 'r') as f:\n",
        "            content = f.read().lower()\n",
        "            words_in_file = content.split()\n",
        "            count = words_in_file.count(word.lower())\n",
        "\n",
        "    except FileNotFoundError:\n",
        "        print(f\"Error: The file '{file_path}' was not found.\")\n",
        "        return -1 # Indicate an error\n",
        "    except IOError:\n",
        "        print(f\"Error: Could not read the file '{file_path}'.\")\n",
        "        return -1 # Indicate an error\n",
        "    except Exception as e:\n",
        "        print(f\"An unexpected error occurred: {e}\")\n",
        "        return -1 # Indicate an error\n",
        "\n",
        "    return count\n",
        "\n",
        "# Create a sample file for demonstration\n",
        "file_name = \"sample_word_count.txt\"\n",
        "with open(file_name, \"w\") as f:\n",
        "    f.write(\"This file contains the word test. Test test.\\n\")\n",
        "    f.write(\"Another line with test.\")\n",
        "\n",
        "# Example usage:\n",
        "word_to_find = \"test\"\n",
        "occurrences = count_word_occurrences(file_name, word_to_find)\n",
        "\n",
        "if occurrences != -1: # Check if there was no error\n",
        "    print(f\"The word '{word_to_find}' appears {occurrences} times in '{file_name}'.\")\n",
        "\n",
        "# Example with a word not in the file\n",
        "word_to_find_2 = \"python\"\n",
        "occurrences_2 = count_word_occurrences(file_name, word_to_find_2)\n",
        "\n",
        "if occurrences_2 != -1:\n",
        "     print(f\"The word '{word_to_find_2}' appears {occurrences_2} times in '{file_name}'.\")\n",
        "\n",
        "# Example with a non-existent file\n",
        "occurrences_3 = count_word_occurrences(\"non_existent_file.txt\", \"word\")"
      ],
      "execution_count": null,
      "outputs": [
        {
          "output_type": "stream",
          "name": "stdout",
          "text": [
            "The word 'test' appears 1 times in 'sample_word_count.txt'.\n",
            "The word 'python' appears 0 times in 'sample_word_count.txt'.\n",
            "Error: The file 'non_existent_file.txt' was not found.\n"
          ]
        }
      ]
    },
    {
      "cell_type": "code",
      "metadata": {
        "colab": {
          "base_uri": "https://localhost:8080/"
        },
        "id": "3b556d5c",
        "outputId": "42e159dc-ae55-49c3-b407-72426ea83e7c"
      },
      "source": [
        "22. #How can you check if a file is empty before attempting to read its contents?\n",
        "\n",
        "import os\n",
        "\n",
        "file_name_empty = \"my_empty_file_check.txt\"\n",
        "file_name_with_content = \"my_file_with_content_check.txt\"\n",
        "\n",
        "# Create an empty file for demonstration\n",
        "with open(file_name_empty, \"w\") as f:\n",
        "    pass\n",
        "\n",
        "# Create a file with content for demonstration\n",
        "with open(file_name_with_content, \"w\") as f:\n",
        "    f.write(\"This file has some content.\")\n",
        "\n",
        "def is_file_empty(file_path):\n",
        "    \"\"\"\n",
        "    Checks if a file is empty by checking its size.\n",
        "\n",
        "    Args:\n",
        "        file_path (str): The path to the file.\n",
        "\n",
        "    Returns:\n",
        "        bool: True if the file is empty, False otherwise.\n",
        "              Returns None if the file does not exist.\n",
        "    \"\"\"\n",
        "    if not os.path.exists(file_path):\n",
        "        print(f\"Error: The file '{file_path}' does not exist.\")\n",
        "        return None\n",
        "    return os.path.getsize(file_path) == 0\n",
        "\n",
        "# Example usage:\n",
        "print(f\"Is '{file_name_empty}' empty? {is_file_empty(file_name_empty)}\")\n",
        "print(f\"Is '{file_name_with_content}' empty? {is_file_empty(file_name_with_content)}\")\n",
        "print(f\"Is 'non_existent_file.txt' empty? {is_file_empty('non_existent_file.txt')}\")\n",
        "\n"
      ],
      "execution_count": null,
      "outputs": [
        {
          "output_type": "stream",
          "name": "stdout",
          "text": [
            "Is 'my_empty_file_check.txt' empty? True\n",
            "Is 'my_file_with_content_check.txt' empty? False\n",
            "Error: The file 'non_existent_file.txt' does not exist.\n",
            "Is 'non_existent_file.txt' empty? None\n"
          ]
        }
      ]
    },
    {
      "cell_type": "code",
      "metadata": {
        "colab": {
          "base_uri": "https://localhost:8080/"
        },
        "id": "a76fef1c",
        "outputId": "29800140-df9a-45be-e036-1fdb96efc45c"
      },
      "source": [
        "23. #Write a Python program that writes to a log file when an error occurs during file handling.\n",
        "\n",
        "import logging\n",
        "import os\n",
        "\n",
        "# Configure logging to write to a file\n",
        "logging.basicConfig(filename='file_error.log', level=logging.ERROR,\n",
        "                    format='%(asctime)s - %(levelname)s - %(message)s')\n",
        "\n",
        "file_to_read = \"non_existent_file_for_logging.txt\"\n",
        "\n",
        "try:\n",
        "    with open(file_to_read, 'r') as f:\n",
        "        content = f.read()\n",
        "        print(\"File content:\", content)\n",
        "except FileNotFoundError:\n",
        "    error_message = f\"Error: File not found when trying to read '{file_to_read}'\"\n",
        "    logging.error(error_message)\n",
        "    print(error_message)\n",
        "except IOError:\n",
        "    error_message = f\"Error: Could not read the file '{file_to_read}' due to an I/O error.\"\n",
        "    logging.error(error_message)\n",
        "    print(error_message)\n",
        "except Exception as e:\n",
        "    error_message = f\"An unexpected error occurred during file handling: {e}\"\n",
        "    logging.error(error_message)\n",
        "    print(error_message)\n",
        "\n",
        "print(f\"Check 'file_error.log' for error messages.\")\n"
      ],
      "execution_count": null,
      "outputs": [
        {
          "output_type": "stream",
          "name": "stderr",
          "text": [
            "ERROR:root:Error: File not found when trying to read 'non_existent_file_for_logging.txt'\n"
          ]
        },
        {
          "output_type": "stream",
          "name": "stdout",
          "text": [
            "Error: File not found when trying to read 'non_existent_file_for_logging.txt'\n",
            "Check 'file_error.log' for error messages.\n"
          ]
        }
      ]
    }
  ]
}